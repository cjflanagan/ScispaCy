{
  "nbformat": 4,
  "nbformat_minor": 0,
  "metadata": {
    "colab": {
      "name": "Explore_ScispaCy.ipynb",
      "provenance": [],
      "collapsed_sections": [],
      "include_colab_link": true
    },
    "kernelspec": {
      "name": "python3",
      "display_name": "Python 3"
    }
  },
  "cells": [
    {
      "cell_type": "markdown",
      "metadata": {
        "id": "view-in-github",
        "colab_type": "text"
      },
      "source": [
        "<a href=\"https://colab.research.google.com/github/cjflanagan/ScispaCy/blob/master/Explore_ScispaCy.ipynb\" target=\"_parent\"><img src=\"https://colab.research.google.com/assets/colab-badge.svg\" alt=\"Open In Colab\"/></a>"
      ]
    },
    {
      "cell_type": "code",
      "metadata": {
        "id": "dn7myllcWfyA",
        "colab_type": "code",
        "outputId": "d1f51fb3-f505-4bdd-ac4b-091e17caf6a8",
        "colab": {
          "base_uri": "https://localhost:8080/",
          "height": 1000
        }
      },
      "source": [
        "!pip install scispacy"
      ],
      "execution_count": 0,
      "outputs": [
        {
          "output_type": "stream",
          "text": [
            "Collecting scispacy\n",
            "  Downloading https://files.pythonhosted.org/packages/eb/50/95cd574c3ccf4a268b334ea3c4c3cf9f95d1f24d6c0be82024d51c3e460b/scispacy-0.2.4.tar.gz\n",
            "Collecting spacy>=2.2.1\n",
            "\u001b[?25l  Downloading https://files.pythonhosted.org/packages/47/13/80ad28ef7a16e2a86d16d73e28588be5f1085afd3e85e4b9b912bd700e8a/spacy-2.2.3-cp36-cp36m-manylinux1_x86_64.whl (10.4MB)\n",
            "\u001b[K     |████████████████████████████████| 10.4MB 7.5MB/s \n",
            "\u001b[?25hCollecting awscli\n",
            "\u001b[?25l  Downloading https://files.pythonhosted.org/packages/3f/32/2914f9bdd89429db51050760698af77021ba3bd52261fe8714de628c3691/awscli-1.18.5-py2.py3-none-any.whl (2.9MB)\n",
            "\u001b[K     |████████████████████████████████| 2.9MB 37.6MB/s \n",
            "\u001b[?25hCollecting conllu\n",
            "  Downloading https://files.pythonhosted.org/packages/0d/0d/b0c55f23b3d5f7c2361df1fd8aacc8a48e40db7fdfb66676a5332beebdf8/conllu-2.2.2-py2.py3-none-any.whl\n",
            "Requirement already satisfied: numpy in /usr/local/lib/python3.6/dist-packages (from scispacy) (1.17.5)\n",
            "Requirement already satisfied: joblib in /usr/local/lib/python3.6/dist-packages (from scispacy) (0.14.1)\n",
            "Collecting nmslib>=1.7.3.6\n",
            "\u001b[?25l  Downloading https://files.pythonhosted.org/packages/b5/5a/4824e7c2803db7fd9b1dbc0de9075bd552e85f4c69c6c054160f7ec92158/nmslib-2.0.5-cp36-cp36m-manylinux2010_x86_64.whl (12.9MB)\n",
            "\u001b[K     |████████████████████████████████| 13.0MB 40.4MB/s \n",
            "\u001b[?25hRequirement already satisfied: scikit-learn>=0.20.3 in /usr/local/lib/python3.6/dist-packages (from scispacy) (0.22.1)\n",
            "Collecting pysbd\n",
            "  Downloading https://files.pythonhosted.org/packages/3b/49/4799b3cdf80aee5fa4562a3929eda738845900bbeef4ee60481196ad4d1a/pysbd-0.2.3-py3-none-any.whl\n",
            "Requirement already satisfied: wasabi<1.1.0,>=0.4.0 in /usr/local/lib/python3.6/dist-packages (from spacy>=2.2.1->scispacy) (0.6.0)\n",
            "Collecting preshed<3.1.0,>=3.0.2\n",
            "\u001b[?25l  Downloading https://files.pythonhosted.org/packages/db/6b/e07fad36913879757c90ba03d6fb7f406f7279e11dcefc105ee562de63ea/preshed-3.0.2-cp36-cp36m-manylinux1_x86_64.whl (119kB)\n",
            "\u001b[K     |████████████████████████████████| 122kB 51.5MB/s \n",
            "\u001b[?25hRequirement already satisfied: requests<3.0.0,>=2.13.0 in /usr/local/lib/python3.6/dist-packages (from spacy>=2.2.1->scispacy) (2.21.0)\n",
            "Collecting blis<0.5.0,>=0.4.0\n",
            "\u001b[?25l  Downloading https://files.pythonhosted.org/packages/41/19/f95c75562d18eb27219df3a3590b911e78d131b68466ad79fdf5847eaac4/blis-0.4.1-cp36-cp36m-manylinux1_x86_64.whl (3.7MB)\n",
            "\u001b[K     |████████████████████████████████| 3.7MB 37.6MB/s \n",
            "\u001b[?25hCollecting thinc<7.4.0,>=7.3.0\n",
            "\u001b[?25l  Downloading https://files.pythonhosted.org/packages/07/59/6bb553bc9a5f072d3cd479fc939fea0f6f682892f1f5cff98de5c9b615bb/thinc-7.3.1-cp36-cp36m-manylinux1_x86_64.whl (2.2MB)\n",
            "\u001b[K     |████████████████████████████████| 2.2MB 38.5MB/s \n",
            "\u001b[?25hRequirement already satisfied: srsly<1.1.0,>=0.1.0 in /usr/local/lib/python3.6/dist-packages (from spacy>=2.2.1->scispacy) (1.0.1)\n",
            "Requirement already satisfied: murmurhash<1.1.0,>=0.28.0 in /usr/local/lib/python3.6/dist-packages (from spacy>=2.2.1->scispacy) (1.0.2)\n",
            "Requirement already satisfied: cymem<2.1.0,>=2.0.2 in /usr/local/lib/python3.6/dist-packages (from spacy>=2.2.1->scispacy) (2.0.3)\n",
            "Collecting catalogue<1.1.0,>=0.0.7\n",
            "  Downloading https://files.pythonhosted.org/packages/6c/f9/9a5658e2f56932e41eb264941f9a2cb7f3ce41a80cb36b2af6ab78e2f8af/catalogue-1.0.0-py2.py3-none-any.whl\n",
            "Requirement already satisfied: setuptools in /usr/local/lib/python3.6/dist-packages (from spacy>=2.2.1->scispacy) (45.1.0)\n",
            "Requirement already satisfied: plac<1.2.0,>=0.9.6 in /usr/local/lib/python3.6/dist-packages (from spacy>=2.2.1->scispacy) (0.9.6)\n",
            "Collecting botocore==1.15.5\n",
            "\u001b[?25l  Downloading https://files.pythonhosted.org/packages/40/2b/f290e79241a6b07ab955a65d0395128bb300711ef37589a01696de1c5b5f/botocore-1.15.5-py2.py3-none-any.whl (5.9MB)\n",
            "\u001b[K     |████████████████████████████████| 5.9MB 44.9MB/s \n",
            "\u001b[?25hRequirement already satisfied: PyYAML<5.3,>=3.10 in /usr/local/lib/python3.6/dist-packages (from awscli->scispacy) (3.13)\n",
            "Collecting rsa<=3.5.0,>=3.1.2\n",
            "\u001b[?25l  Downloading https://files.pythonhosted.org/packages/e1/ae/baedc9cb175552e95f3395c43055a6a5e125ae4d48a1d7a924baca83e92e/rsa-3.4.2-py2.py3-none-any.whl (46kB)\n",
            "\u001b[K     |████████████████████████████████| 51kB 7.2MB/s \n",
            "\u001b[?25hRequirement already satisfied: docutils<0.16,>=0.10 in /usr/local/lib/python3.6/dist-packages (from awscli->scispacy) (0.15.2)\n",
            "Collecting colorama<0.4.4,>=0.2.5; python_version != \"3.4\"\n",
            "  Downloading https://files.pythonhosted.org/packages/c9/dc/45cdef1b4d119eb96316b3117e6d5708a08029992b2fee2c143c7a0a5cc5/colorama-0.4.3-py2.py3-none-any.whl\n",
            "Requirement already satisfied: s3transfer<0.4.0,>=0.3.0 in /usr/local/lib/python3.6/dist-packages (from awscli->scispacy) (0.3.3)\n",
            "Collecting pybind11>=2.2.3\n",
            "\u001b[?25l  Downloading https://files.pythonhosted.org/packages/4b/4d/ae1c4d8e8b139afa9682054dd42df3b0e3b5c1731287933021b9fd7e9cc4/pybind11-2.4.3-py2.py3-none-any.whl (150kB)\n",
            "\u001b[K     |████████████████████████████████| 153kB 47.7MB/s \n",
            "\u001b[?25hRequirement already satisfied: psutil in /usr/local/lib/python3.6/dist-packages (from nmslib>=1.7.3.6->scispacy) (5.4.8)\n",
            "Requirement already satisfied: scipy>=0.17.0 in /usr/local/lib/python3.6/dist-packages (from scikit-learn>=0.20.3->scispacy) (1.4.1)\n",
            "Requirement already satisfied: urllib3<1.25,>=1.21.1 in /usr/local/lib/python3.6/dist-packages (from requests<3.0.0,>=2.13.0->spacy>=2.2.1->scispacy) (1.24.3)\n",
            "Requirement already satisfied: certifi>=2017.4.17 in /usr/local/lib/python3.6/dist-packages (from requests<3.0.0,>=2.13.0->spacy>=2.2.1->scispacy) (2019.11.28)\n",
            "Requirement already satisfied: idna<2.9,>=2.5 in /usr/local/lib/python3.6/dist-packages (from requests<3.0.0,>=2.13.0->spacy>=2.2.1->scispacy) (2.8)\n",
            "Requirement already satisfied: chardet<3.1.0,>=3.0.2 in /usr/local/lib/python3.6/dist-packages (from requests<3.0.0,>=2.13.0->spacy>=2.2.1->scispacy) (3.0.4)\n",
            "Requirement already satisfied: tqdm<5.0.0,>=4.10.0 in /usr/local/lib/python3.6/dist-packages (from thinc<7.4.0,>=7.3.0->spacy>=2.2.1->scispacy) (4.28.1)\n",
            "Requirement already satisfied: importlib-metadata>=0.20; python_version < \"3.8\" in /usr/local/lib/python3.6/dist-packages (from catalogue<1.1.0,>=0.0.7->spacy>=2.2.1->scispacy) (1.5.0)\n",
            "Requirement already satisfied: python-dateutil<3.0.0,>=2.1 in /usr/local/lib/python3.6/dist-packages (from botocore==1.15.5->awscli->scispacy) (2.6.1)\n",
            "Requirement already satisfied: jmespath<1.0.0,>=0.7.1 in /usr/local/lib/python3.6/dist-packages (from botocore==1.15.5->awscli->scispacy) (0.9.4)\n",
            "Requirement already satisfied: pyasn1>=0.1.3 in /usr/local/lib/python3.6/dist-packages (from rsa<=3.5.0,>=3.1.2->awscli->scispacy) (0.4.8)\n",
            "Requirement already satisfied: zipp>=0.5 in /usr/local/lib/python3.6/dist-packages (from importlib-metadata>=0.20; python_version < \"3.8\"->catalogue<1.1.0,>=0.0.7->spacy>=2.2.1->scispacy) (3.0.0)\n",
            "Requirement already satisfied: six>=1.5 in /usr/local/lib/python3.6/dist-packages (from python-dateutil<3.0.0,>=2.1->botocore==1.15.5->awscli->scispacy) (1.12.0)\n",
            "Building wheels for collected packages: scispacy\n",
            "  Building wheel for scispacy (setup.py) ... \u001b[?25l\u001b[?25hdone\n",
            "  Created wheel for scispacy: filename=scispacy-0.2.4-cp36-none-any.whl size=35204 sha256=8802db93ae9e067fa36940bc1f458199befca8388ce23d6f7a525b4a30181f1d\n",
            "  Stored in directory: /root/.cache/pip/wheels/36/5e/7c/ba8d6b02f5cfa40735e40ccffd29852ca19ebca59393afd5f0\n",
            "Successfully built scispacy\n",
            "\u001b[31mERROR: boto3 1.11.15 has requirement botocore<1.15.0,>=1.14.15, but you'll have botocore 1.15.5 which is incompatible.\u001b[0m\n",
            "Installing collected packages: preshed, blis, thinc, catalogue, spacy, botocore, rsa, colorama, awscli, conllu, pybind11, nmslib, pysbd, scispacy\n",
            "  Found existing installation: preshed 2.0.1\n",
            "    Uninstalling preshed-2.0.1:\n",
            "      Successfully uninstalled preshed-2.0.1\n",
            "  Found existing installation: blis 0.2.4\n",
            "    Uninstalling blis-0.2.4:\n",
            "      Successfully uninstalled blis-0.2.4\n",
            "  Found existing installation: thinc 7.0.8\n",
            "    Uninstalling thinc-7.0.8:\n",
            "      Successfully uninstalled thinc-7.0.8\n",
            "  Found existing installation: spacy 2.1.9\n",
            "    Uninstalling spacy-2.1.9:\n",
            "      Successfully uninstalled spacy-2.1.9\n",
            "  Found existing installation: botocore 1.14.15\n",
            "    Uninstalling botocore-1.14.15:\n",
            "      Successfully uninstalled botocore-1.14.15\n",
            "  Found existing installation: rsa 4.0\n",
            "    Uninstalling rsa-4.0:\n",
            "      Successfully uninstalled rsa-4.0\n",
            "Successfully installed awscli-1.18.5 blis-0.4.1 botocore-1.15.5 catalogue-1.0.0 colorama-0.4.3 conllu-2.2.2 nmslib-2.0.5 preshed-3.0.2 pybind11-2.4.3 pysbd-0.2.3 rsa-3.4.2 scispacy-0.2.4 spacy-2.2.3 thinc-7.3.1\n"
          ],
          "name": "stdout"
        },
        {
          "output_type": "display_data",
          "data": {
            "application/vnd.colab-display-data+json": {
              "pip_warning": {
                "packages": [
                  "rsa"
                ]
              }
            }
          },
          "metadata": {
            "tags": []
          }
        }
      ]
    },
    {
      "cell_type": "code",
      "metadata": {
        "id": "d9j9Wkwsc0dJ",
        "colab_type": "code",
        "colab": {}
      },
      "source": [
        "#!pip install https://s3-us-west-2.amazonaws.com/ai2-s2-scispacy/releases/v0.2.0/en_core_sci_sm-0.2.0.tar.gz"
      ],
      "execution_count": 0,
      "outputs": []
    },
    {
      "cell_type": "code",
      "metadata": {
        "id": "ojox0fIk3tj3",
        "colab_type": "code",
        "outputId": "c393a8ed-47b2-4057-df8a-5d91286ca42a",
        "colab": {
          "base_uri": "https://localhost:8080/",
          "height": 525
        }
      },
      "source": [
        "!pip install https://s3-us-west-2.amazonaws.com/ai2-s2-scispacy/releases/v0.2.0/en_core_sci_md-0.2.0.tar.gz                      #install a model for unnamed entity mentions"
      ],
      "execution_count": 0,
      "outputs": [
        {
          "output_type": "stream",
          "text": [
            "Collecting https://s3-us-west-2.amazonaws.com/ai2-s2-scispacy/releases/v0.2.0/en_core_sci_md-0.2.0.tar.gz\n",
            "\u001b[?25l  Downloading https://s3-us-west-2.amazonaws.com/ai2-s2-scispacy/releases/v0.2.0/en_core_sci_md-0.2.0.tar.gz (91.4MB)\n",
            "\u001b[K     |████████████████████████████████| 91.4MB 103kB/s \n",
            "\u001b[?25hRequirement already satisfied: spacy>=2.1.3 in /usr/local/lib/python3.6/dist-packages (from en-core-sci-md==0.2.0) (2.2.3)\n",
            "Requirement already satisfied: setuptools in /usr/local/lib/python3.6/dist-packages (from spacy>=2.1.3->en-core-sci-md==0.2.0) (45.1.0)\n",
            "Requirement already satisfied: blis<0.5.0,>=0.4.0 in /usr/local/lib/python3.6/dist-packages (from spacy>=2.1.3->en-core-sci-md==0.2.0) (0.4.1)\n",
            "Requirement already satisfied: cymem<2.1.0,>=2.0.2 in /usr/local/lib/python3.6/dist-packages (from spacy>=2.1.3->en-core-sci-md==0.2.0) (2.0.3)\n",
            "Requirement already satisfied: requests<3.0.0,>=2.13.0 in /usr/local/lib/python3.6/dist-packages (from spacy>=2.1.3->en-core-sci-md==0.2.0) (2.21.0)\n",
            "Requirement already satisfied: plac<1.2.0,>=0.9.6 in /usr/local/lib/python3.6/dist-packages (from spacy>=2.1.3->en-core-sci-md==0.2.0) (0.9.6)\n",
            "Requirement already satisfied: wasabi<1.1.0,>=0.4.0 in /usr/local/lib/python3.6/dist-packages (from spacy>=2.1.3->en-core-sci-md==0.2.0) (0.6.0)\n",
            "Requirement already satisfied: srsly<1.1.0,>=0.1.0 in /usr/local/lib/python3.6/dist-packages (from spacy>=2.1.3->en-core-sci-md==0.2.0) (1.0.1)\n",
            "Requirement already satisfied: preshed<3.1.0,>=3.0.2 in /usr/local/lib/python3.6/dist-packages (from spacy>=2.1.3->en-core-sci-md==0.2.0) (3.0.2)\n",
            "Requirement already satisfied: catalogue<1.1.0,>=0.0.7 in /usr/local/lib/python3.6/dist-packages (from spacy>=2.1.3->en-core-sci-md==0.2.0) (1.0.0)\n",
            "Requirement already satisfied: numpy>=1.15.0 in /usr/local/lib/python3.6/dist-packages (from spacy>=2.1.3->en-core-sci-md==0.2.0) (1.17.5)\n",
            "Requirement already satisfied: thinc<7.4.0,>=7.3.0 in /usr/local/lib/python3.6/dist-packages (from spacy>=2.1.3->en-core-sci-md==0.2.0) (7.3.1)\n",
            "Requirement already satisfied: murmurhash<1.1.0,>=0.28.0 in /usr/local/lib/python3.6/dist-packages (from spacy>=2.1.3->en-core-sci-md==0.2.0) (1.0.2)\n",
            "Requirement already satisfied: idna<2.9,>=2.5 in /usr/local/lib/python3.6/dist-packages (from requests<3.0.0,>=2.13.0->spacy>=2.1.3->en-core-sci-md==0.2.0) (2.8)\n",
            "Requirement already satisfied: urllib3<1.25,>=1.21.1 in /usr/local/lib/python3.6/dist-packages (from requests<3.0.0,>=2.13.0->spacy>=2.1.3->en-core-sci-md==0.2.0) (1.24.3)\n",
            "Requirement already satisfied: chardet<3.1.0,>=3.0.2 in /usr/local/lib/python3.6/dist-packages (from requests<3.0.0,>=2.13.0->spacy>=2.1.3->en-core-sci-md==0.2.0) (3.0.4)\n",
            "Requirement already satisfied: certifi>=2017.4.17 in /usr/local/lib/python3.6/dist-packages (from requests<3.0.0,>=2.13.0->spacy>=2.1.3->en-core-sci-md==0.2.0) (2019.11.28)\n",
            "Requirement already satisfied: importlib-metadata>=0.20; python_version < \"3.8\" in /usr/local/lib/python3.6/dist-packages (from catalogue<1.1.0,>=0.0.7->spacy>=2.1.3->en-core-sci-md==0.2.0) (1.5.0)\n",
            "Requirement already satisfied: tqdm<5.0.0,>=4.10.0 in /usr/local/lib/python3.6/dist-packages (from thinc<7.4.0,>=7.3.0->spacy>=2.1.3->en-core-sci-md==0.2.0) (4.28.1)\n",
            "Requirement already satisfied: zipp>=0.5 in /usr/local/lib/python3.6/dist-packages (from importlib-metadata>=0.20; python_version < \"3.8\"->catalogue<1.1.0,>=0.0.7->spacy>=2.1.3->en-core-sci-md==0.2.0) (3.0.0)\n",
            "Building wheels for collected packages: en-core-sci-md\n",
            "  Building wheel for en-core-sci-md (setup.py) ... \u001b[?25l\u001b[?25hdone\n",
            "  Created wheel for en-core-sci-md: filename=en_core_sci_md-0.2.0-cp36-none-any.whl size=91566690 sha256=2948d206e1071e4b0217c71a6f1390037561a48aa7fed89a6ec0e736b18a7224\n",
            "  Stored in directory: /root/.cache/pip/wheels/ee/1c/61/01599990078e112136a58c0e81cd6c6f3a07d1af919f88618a\n",
            "Successfully built en-core-sci-md\n",
            "Installing collected packages: en-core-sci-md\n",
            "Successfully installed en-core-sci-md-0.2.0\n"
          ],
          "name": "stdout"
        }
      ]
    },
    {
      "cell_type": "code",
      "metadata": {
        "id": "dG7BTvUrMWYb",
        "colab_type": "code",
        "outputId": "e8cf6736-0192-4e4c-e595-232ea220d56e",
        "colab": {
          "base_uri": "https://localhost:8080/",
          "height": 525
        }
      },
      "source": [
        "!pip install https://s3-us-west-2.amazonaws.com/ai2-s2-scispacy/releases/v0.2.0/en_ner_bc5cdr_md-0.2.0.tar.gz                    #install an NER model trained on bc5cdr corpus"
      ],
      "execution_count": 0,
      "outputs": [
        {
          "output_type": "stream",
          "text": [
            "Collecting https://s3-us-west-2.amazonaws.com/ai2-s2-scispacy/releases/v0.2.0/en_ner_bc5cdr_md-0.2.0.tar.gz\n",
            "\u001b[?25l  Downloading https://s3-us-west-2.amazonaws.com/ai2-s2-scispacy/releases/v0.2.0/en_ner_bc5cdr_md-0.2.0.tar.gz (82.0MB)\n",
            "\u001b[K     |████████████████████████████████| 82.0MB 49kB/s \n",
            "\u001b[?25hRequirement already satisfied: spacy>=2.1.3 in /usr/local/lib/python3.6/dist-packages (from en-ner-bc5cdr-md==0.2.0) (2.2.3)\n",
            "Requirement already satisfied: thinc<7.4.0,>=7.3.0 in /usr/local/lib/python3.6/dist-packages (from spacy>=2.1.3->en-ner-bc5cdr-md==0.2.0) (7.3.1)\n",
            "Requirement already satisfied: wasabi<1.1.0,>=0.4.0 in /usr/local/lib/python3.6/dist-packages (from spacy>=2.1.3->en-ner-bc5cdr-md==0.2.0) (0.6.0)\n",
            "Requirement already satisfied: requests<3.0.0,>=2.13.0 in /usr/local/lib/python3.6/dist-packages (from spacy>=2.1.3->en-ner-bc5cdr-md==0.2.0) (2.21.0)\n",
            "Requirement already satisfied: blis<0.5.0,>=0.4.0 in /usr/local/lib/python3.6/dist-packages (from spacy>=2.1.3->en-ner-bc5cdr-md==0.2.0) (0.4.1)\n",
            "Requirement already satisfied: srsly<1.1.0,>=0.1.0 in /usr/local/lib/python3.6/dist-packages (from spacy>=2.1.3->en-ner-bc5cdr-md==0.2.0) (1.0.1)\n",
            "Requirement already satisfied: numpy>=1.15.0 in /usr/local/lib/python3.6/dist-packages (from spacy>=2.1.3->en-ner-bc5cdr-md==0.2.0) (1.17.5)\n",
            "Requirement already satisfied: plac<1.2.0,>=0.9.6 in /usr/local/lib/python3.6/dist-packages (from spacy>=2.1.3->en-ner-bc5cdr-md==0.2.0) (0.9.6)\n",
            "Requirement already satisfied: preshed<3.1.0,>=3.0.2 in /usr/local/lib/python3.6/dist-packages (from spacy>=2.1.3->en-ner-bc5cdr-md==0.2.0) (3.0.2)\n",
            "Requirement already satisfied: cymem<2.1.0,>=2.0.2 in /usr/local/lib/python3.6/dist-packages (from spacy>=2.1.3->en-ner-bc5cdr-md==0.2.0) (2.0.3)\n",
            "Requirement already satisfied: murmurhash<1.1.0,>=0.28.0 in /usr/local/lib/python3.6/dist-packages (from spacy>=2.1.3->en-ner-bc5cdr-md==0.2.0) (1.0.2)\n",
            "Requirement already satisfied: setuptools in /usr/local/lib/python3.6/dist-packages (from spacy>=2.1.3->en-ner-bc5cdr-md==0.2.0) (45.1.0)\n",
            "Requirement already satisfied: catalogue<1.1.0,>=0.0.7 in /usr/local/lib/python3.6/dist-packages (from spacy>=2.1.3->en-ner-bc5cdr-md==0.2.0) (1.0.0)\n",
            "Requirement already satisfied: tqdm<5.0.0,>=4.10.0 in /usr/local/lib/python3.6/dist-packages (from thinc<7.4.0,>=7.3.0->spacy>=2.1.3->en-ner-bc5cdr-md==0.2.0) (4.28.1)\n",
            "Requirement already satisfied: urllib3<1.25,>=1.21.1 in /usr/local/lib/python3.6/dist-packages (from requests<3.0.0,>=2.13.0->spacy>=2.1.3->en-ner-bc5cdr-md==0.2.0) (1.24.3)\n",
            "Requirement already satisfied: chardet<3.1.0,>=3.0.2 in /usr/local/lib/python3.6/dist-packages (from requests<3.0.0,>=2.13.0->spacy>=2.1.3->en-ner-bc5cdr-md==0.2.0) (3.0.4)\n",
            "Requirement already satisfied: certifi>=2017.4.17 in /usr/local/lib/python3.6/dist-packages (from requests<3.0.0,>=2.13.0->spacy>=2.1.3->en-ner-bc5cdr-md==0.2.0) (2019.11.28)\n",
            "Requirement already satisfied: idna<2.9,>=2.5 in /usr/local/lib/python3.6/dist-packages (from requests<3.0.0,>=2.13.0->spacy>=2.1.3->en-ner-bc5cdr-md==0.2.0) (2.8)\n",
            "Requirement already satisfied: importlib-metadata>=0.20; python_version < \"3.8\" in /usr/local/lib/python3.6/dist-packages (from catalogue<1.1.0,>=0.0.7->spacy>=2.1.3->en-ner-bc5cdr-md==0.2.0) (1.5.0)\n",
            "Requirement already satisfied: zipp>=0.5 in /usr/local/lib/python3.6/dist-packages (from importlib-metadata>=0.20; python_version < \"3.8\"->catalogue<1.1.0,>=0.0.7->spacy>=2.1.3->en-ner-bc5cdr-md==0.2.0) (3.0.0)\n",
            "Building wheels for collected packages: en-ner-bc5cdr-md\n",
            "  Building wheel for en-ner-bc5cdr-md (setup.py) ... \u001b[?25l\u001b[?25hdone\n",
            "  Created wheel for en-ner-bc5cdr-md: filename=en_ner_bc5cdr_md-0.2.0-cp36-none-any.whl size=82155212 sha256=137234c1efe06145a0111999f15ffef81a6cbbcb84d4bd73247ded3b004e3598\n",
            "  Stored in directory: /root/.cache/pip/wheels/9f/7a/02/55c62741ba5a57eb10906937b3a98db3987fcf2bfccef12df6\n",
            "Successfully built en-ner-bc5cdr-md\n",
            "Installing collected packages: en-ner-bc5cdr-md\n",
            "Successfully installed en-ner-bc5cdr-md-0.2.0\n"
          ],
          "name": "stdout"
        }
      ]
    },
    {
      "cell_type": "code",
      "metadata": {
        "id": "HF_hTldRFVSR",
        "colab_type": "code",
        "outputId": "4b25f877-7e13-48b5-f972-8348773e579d",
        "colab": {
          "base_uri": "https://localhost:8080/",
          "height": 525
        }
      },
      "source": [
        "!pip install https://s3-us-west-2.amazonaws.com/ai2-s2-scispacy/releases/v0.2.0/en_ner_bionlp13cg_md-0.2.0.tar.gz                #install an NER model trained on bionlp13c corpus"
      ],
      "execution_count": 0,
      "outputs": [
        {
          "output_type": "stream",
          "text": [
            "Collecting https://s3-us-west-2.amazonaws.com/ai2-s2-scispacy/releases/v0.2.0/en_ner_bionlp13cg_md-0.2.0.tar.gz\n",
            "\u001b[?25l  Downloading https://s3-us-west-2.amazonaws.com/ai2-s2-scispacy/releases/v0.2.0/en_ner_bionlp13cg_md-0.2.0.tar.gz (82.0MB)\n",
            "\u001b[K     |████████████████████████████████| 82.0MB 48kB/s \n",
            "\u001b[?25hRequirement already satisfied: spacy>=2.1.3 in /usr/local/lib/python3.6/dist-packages (from en-ner-bionlp13cg-md==0.2.0) (2.2.3)\n",
            "Requirement already satisfied: srsly<1.1.0,>=0.1.0 in /usr/local/lib/python3.6/dist-packages (from spacy>=2.1.3->en-ner-bionlp13cg-md==0.2.0) (1.0.1)\n",
            "Requirement already satisfied: requests<3.0.0,>=2.13.0 in /usr/local/lib/python3.6/dist-packages (from spacy>=2.1.3->en-ner-bionlp13cg-md==0.2.0) (2.21.0)\n",
            "Requirement already satisfied: plac<1.2.0,>=0.9.6 in /usr/local/lib/python3.6/dist-packages (from spacy>=2.1.3->en-ner-bionlp13cg-md==0.2.0) (0.9.6)\n",
            "Requirement already satisfied: catalogue<1.1.0,>=0.0.7 in /usr/local/lib/python3.6/dist-packages (from spacy>=2.1.3->en-ner-bionlp13cg-md==0.2.0) (1.0.0)\n",
            "Requirement already satisfied: blis<0.5.0,>=0.4.0 in /usr/local/lib/python3.6/dist-packages (from spacy>=2.1.3->en-ner-bionlp13cg-md==0.2.0) (0.4.1)\n",
            "Requirement already satisfied: setuptools in /usr/local/lib/python3.6/dist-packages (from spacy>=2.1.3->en-ner-bionlp13cg-md==0.2.0) (45.1.0)\n",
            "Requirement already satisfied: murmurhash<1.1.0,>=0.28.0 in /usr/local/lib/python3.6/dist-packages (from spacy>=2.1.3->en-ner-bionlp13cg-md==0.2.0) (1.0.2)\n",
            "Requirement already satisfied: preshed<3.1.0,>=3.0.2 in /usr/local/lib/python3.6/dist-packages (from spacy>=2.1.3->en-ner-bionlp13cg-md==0.2.0) (3.0.2)\n",
            "Requirement already satisfied: cymem<2.1.0,>=2.0.2 in /usr/local/lib/python3.6/dist-packages (from spacy>=2.1.3->en-ner-bionlp13cg-md==0.2.0) (2.0.3)\n",
            "Requirement already satisfied: wasabi<1.1.0,>=0.4.0 in /usr/local/lib/python3.6/dist-packages (from spacy>=2.1.3->en-ner-bionlp13cg-md==0.2.0) (0.6.0)\n",
            "Requirement already satisfied: thinc<7.4.0,>=7.3.0 in /usr/local/lib/python3.6/dist-packages (from spacy>=2.1.3->en-ner-bionlp13cg-md==0.2.0) (7.3.1)\n",
            "Requirement already satisfied: numpy>=1.15.0 in /usr/local/lib/python3.6/dist-packages (from spacy>=2.1.3->en-ner-bionlp13cg-md==0.2.0) (1.17.5)\n",
            "Requirement already satisfied: idna<2.9,>=2.5 in /usr/local/lib/python3.6/dist-packages (from requests<3.0.0,>=2.13.0->spacy>=2.1.3->en-ner-bionlp13cg-md==0.2.0) (2.8)\n",
            "Requirement already satisfied: urllib3<1.25,>=1.21.1 in /usr/local/lib/python3.6/dist-packages (from requests<3.0.0,>=2.13.0->spacy>=2.1.3->en-ner-bionlp13cg-md==0.2.0) (1.24.3)\n",
            "Requirement already satisfied: chardet<3.1.0,>=3.0.2 in /usr/local/lib/python3.6/dist-packages (from requests<3.0.0,>=2.13.0->spacy>=2.1.3->en-ner-bionlp13cg-md==0.2.0) (3.0.4)\n",
            "Requirement already satisfied: certifi>=2017.4.17 in /usr/local/lib/python3.6/dist-packages (from requests<3.0.0,>=2.13.0->spacy>=2.1.3->en-ner-bionlp13cg-md==0.2.0) (2019.11.28)\n",
            "Requirement already satisfied: importlib-metadata>=0.20; python_version < \"3.8\" in /usr/local/lib/python3.6/dist-packages (from catalogue<1.1.0,>=0.0.7->spacy>=2.1.3->en-ner-bionlp13cg-md==0.2.0) (1.5.0)\n",
            "Requirement already satisfied: tqdm<5.0.0,>=4.10.0 in /usr/local/lib/python3.6/dist-packages (from thinc<7.4.0,>=7.3.0->spacy>=2.1.3->en-ner-bionlp13cg-md==0.2.0) (4.28.1)\n",
            "Requirement already satisfied: zipp>=0.5 in /usr/local/lib/python3.6/dist-packages (from importlib-metadata>=0.20; python_version < \"3.8\"->catalogue<1.1.0,>=0.0.7->spacy>=2.1.3->en-ner-bionlp13cg-md==0.2.0) (3.0.0)\n",
            "Building wheels for collected packages: en-ner-bionlp13cg-md\n",
            "  Building wheel for en-ner-bionlp13cg-md (setup.py) ... \u001b[?25l\u001b[?25hdone\n",
            "  Created wheel for en-ner-bionlp13cg-md: filename=en_ner_bionlp13cg_md-0.2.0-cp36-none-any.whl size=82160568 sha256=a9986ff635d9f203b8def6c792867e38c8376955ad709989a8694cc7b40815b9\n",
            "  Stored in directory: /root/.cache/pip/wheels/06/eb/5e/13cd26d4134806a8365515c6e7c107768056da5f4fd3bdd40e\n",
            "Successfully built en-ner-bionlp13cg-md\n",
            "Installing collected packages: en-ner-bionlp13cg-md\n",
            "Successfully installed en-ner-bionlp13cg-md-0.2.0\n"
          ],
          "name": "stdout"
        }
      ]
    },
    {
      "cell_type": "code",
      "metadata": {
        "id": "ZvUCfIa0WXrp",
        "colab_type": "code",
        "colab": {}
      },
      "source": [
        "import scispacy\n",
        "import spacy\n",
        "from spacy import displacy\n",
        "from collections import Counter\n",
        "#import en_core_web_sm\n",
        "import en_ner_bc5cdr_md\n",
        "#import en_core_sci_sm\n",
        "import en_core_sci_md\n",
        "import en_ner_bionlp13cg_md\n",
        "from scispacy.abbreviation import AbbreviationDetector\n",
        "from scispacy.umls_linking import UmlsEntityLinker\n",
        "from collections import OrderedDict\n",
        "from pprint import pprint"
      ],
      "execution_count": 0,
      "outputs": []
    },
    {
      "cell_type": "code",
      "metadata": {
        "id": "Y_9FH9q2J2rS",
        "colab_type": "code",
        "colab": {}
      },
      "source": [
        "test_doc = \"\"\"PURPOSE: Studies have identified several estrogen receptor alpha (ERalpha) ligand-binding domain (LBD) somatic mutations in endocrine therapy resistant, metastatic ER-positive breast cancers. The most common mutations, Tyr537Ser (Y537S) and Asp538Gly (D538G), are detected in ~ 30% of endocrine resistant metastatic breast cancer patients. These ESR1 mutations induce the agonist conformation of ERalpha, confer an estrogen-independent phenotype, and promote drug resistance to antiestrogens. METHODS: ER-positive, estrogen-dependent MCF-7 cells were engineered to express either the Y537S or D538G mutants using CRISPR knock-in (cY537S and cD538G). These cells were used to screen several estrogen receptor degrader (ERD) compounds synthesized using the Proteolysis Targeting Chimeras (PROTAC) method to induce degradation of ERalpha via the ubiquitin-proteasome pathway. RESULTS: Wild-type MCF-7 and ERalpha LBD mutant cells were treated with ERD-148 (10 pM-1 microM) and assayed for cellular proliferation using the PrestoBlue cell viability assay. ERD-148 attenuated ER-dependent growth with IC50 values of 0.8, 10.5, and 6.1 nM in MCF-7, cY537S, and cD538G cells, respectively. Western blot analysis showed that MCF-7 cells treated with 1 nM ERD-148 for 24 h exhibited reduced ERalpha protein expression as compared to the mutants. The ER-regulated gene, GREB1, demonstrated significant downregulation in parental and mutant cells after 24 h of ERD-148 treatment at 10 nM. Growth of the ER-negative, estrogen-independent MDA-MB-231 breast cancer cells was not inhibited by ERD-148 at the ~ IC90 observed in the ER-positive cells. CONCLUSION: ERD-148 inhibits the growth of ER-positive breast cancer cells via downregulating ERalpha with comparable potency to Fulvestrant with marginal non-specific toxicity\"\"\""
      ],
      "execution_count": 0,
      "outputs": []
    },
    {
      "cell_type": "code",
      "metadata": {
        "id": "nI7k7DrQGwIz",
        "colab_type": "code",
        "outputId": "2ef724b0-804f-4cec-8d76-3da8985c8a10",
        "colab": {
          "base_uri": "https://localhost:8080/",
          "height": 53
        }
      },
      "source": [
        "print(test_doc)"
      ],
      "execution_count": 0,
      "outputs": [
        {
          "output_type": "stream",
          "text": [
            "PURPOSE: Studies have identified several estrogen receptor alpha (ERalpha) ligand-binding domain (LBD) somatic mutations in endocrine therapy resistant, metastatic ER-positive breast cancers. The most common mutations, Tyr537Ser (Y537S) and Asp538Gly (D538G), are detected in ~ 30% of endocrine resistant metastatic breast cancer patients. These ESR1 mutations induce the agonist conformation of ERalpha, confer an estrogen-independent phenotype, and promote drug resistance to antiestrogens. METHODS: ER-positive, estrogen-dependent MCF-7 cells were engineered to express either the Y537S or D538G mutants using CRISPR knock-in (cY537S and cD538G). These cells were used to screen several estrogen receptor degrader (ERD) compounds synthesized using the Proteolysis Targeting Chimeras (PROTAC) method to induce degradation of ERalpha via the ubiquitin-proteasome pathway. RESULTS: Wild-type MCF-7 and ERalpha LBD mutant cells were treated with ERD-148 (10 pM-1 microM) and assayed for cellular proliferation using the PrestoBlue cell viability assay. ERD-148 attenuated ER-dependent growth with IC50 values of 0.8, 10.5, and 6.1 nM in MCF-7, cY537S, and cD538G cells, respectively. Western blot analysis showed that MCF-7 cells treated with 1 nM ERD-148 for 24 h exhibited reduced ERalpha protein expression as compared to the mutants. The ER-regulated gene, GREB1, demonstrated significant downregulation in parental and mutant cells after 24 h of ERD-148 treatment at 10 nM. Growth of the ER-negative, estrogen-independent MDA-MB-231 breast cancer cells was not inhibited by ERD-148 at the ~ IC90 observed in the ER-positive cells. CONCLUSION: ERD-148 inhibits the growth of ER-positive breast cancer cells via downregulating ERalpha with comparable potency to Fulvestrant with marginal non-specific toxicity\n"
          ],
          "name": "stdout"
        }
      ]
    },
    {
      "cell_type": "code",
      "metadata": {
        "id": "gXJEXmcGyZsM",
        "colab_type": "code",
        "colab": {}
      },
      "source": [
        "def display_entities(model,document):\n",
        "    \"\"\" \n",
        "    This function displays word entities\n",
        "\n",
        "    Parameters: \n",
        "         model(module): A pretrained model from spaCy(https://spacy.io/models) or ScispaCy(https://allenai.github.io/scispacy/)\n",
        "         document(str): Document to be processed\n",
        "\n",
        "    Returns: Image rendering and list of named/unnamed word entities and entity labels \n",
        "     \"\"\"\n",
        "    nlp = model.load()\n",
        "    doc = nlp(document)\n",
        "    # displacy_image = displacy.render(doc, jupyter=True,style='ent')\n",
        "    entity_and_label = set([(X.text, X.label_) for X in doc.ents])\n",
        "    return  entity_and_label"
      ],
      "execution_count": 0,
      "outputs": []
    },
    {
      "cell_type": "code",
      "metadata": {
        "id": "doo-4ePkNqDP",
        "colab_type": "code",
        "colab": {}
      },
      "source": [
        "def extract_genes(doc_text):\n",
        "  all_genes = []\n",
        "  entity_and_label =  display_entities(en_ner_bionlp13cg_md,doc_text)\n",
        "  for item in entity_and_label:\n",
        "    if item[1] == 'GENE_OR_GENE_PRODUCT':\n",
        "      all_genes.append(item[0].lower())\n",
        "  return all_genes\n",
        "\n",
        "def extract_disease(doc_text):\n",
        "  all_disease = []\n",
        "  entity_and_label =  display_entities(en_ner_bc5cdr_md,doc_text)\n",
        "  for item in entity_and_label:\n",
        "    if item[1] == 'DISEASE':\n",
        "      disease = item[1].lower()\n",
        "      all_disease.append(item[0])\n",
        "  return all_disease\n",
        "\n",
        "def gene_disease_combination(gene_list, disease_list):\n",
        "  gene_disease = []\n",
        "  for gene in gene_list:\n",
        "    for disease in disease_list:\n",
        "      gene_disease.append(gene+'<->'+disease)\n",
        "  gene_disease = set(gene_disease)\n",
        "  return gene_disease\n",
        "\n",
        "def parse_document(doc_text):\n",
        "  gene_list = extract_genes(doc_text)\n",
        "  disease_list = extract_disease(doc_text)\n",
        "  gene_disease_combined = gene_disease_combination(gene_list, disease_list)\n",
        "  return gene_list, disease_list, gene_disease_combined\n"
      ],
      "execution_count": 0,
      "outputs": []
    },
    {
      "cell_type": "code",
      "metadata": {
        "id": "TxOH_Ii9Okd4",
        "colab_type": "code",
        "colab": {}
      },
      "source": [
        "gene_list, disease_list, gene_disease_combined = parse_document(test_doc)"
      ],
      "execution_count": 0,
      "outputs": []
    },
    {
      "cell_type": "code",
      "metadata": {
        "id": "JOFRtppwOkbv",
        "colab_type": "code",
        "outputId": "d0e47a92-1290-4bec-df80-9ff385a50c2f",
        "colab": {
          "base_uri": "https://localhost:8080/",
          "height": 407
        }
      },
      "source": [
        "gene_disease_combined"
      ],
      "execution_count": 0,
      "outputs": [
        {
          "output_type": "execute_result",
          "data": {
            "text/plain": [
              "{'cd538g<->breast cancer',\n",
              " 'cd538g<->breast cancers',\n",
              " 'cd538g<->toxicity',\n",
              " 'eralpha<->breast cancer',\n",
              " 'eralpha<->breast cancers',\n",
              " 'eralpha<->toxicity',\n",
              " 'esr1<->breast cancer',\n",
              " 'esr1<->breast cancers',\n",
              " 'esr1<->toxicity',\n",
              " 'estrogen receptor alpha<->breast cancer',\n",
              " 'estrogen receptor alpha<->breast cancers',\n",
              " 'estrogen receptor alpha<->toxicity',\n",
              " 'greb1<->breast cancer',\n",
              " 'greb1<->breast cancers',\n",
              " 'greb1<->toxicity',\n",
              " 'knock-in<->breast cancer',\n",
              " 'knock-in<->breast cancers',\n",
              " 'knock-in<->toxicity',\n",
              " 'protac<->breast cancer',\n",
              " 'protac<->breast cancers',\n",
              " 'protac<->toxicity',\n",
              " 'tyr537ser (y537s)<->breast cancer',\n",
              " 'tyr537ser (y537s)<->breast cancers',\n",
              " 'tyr537ser (y537s)<->toxicity'}"
            ]
          },
          "metadata": {
            "tags": []
          },
          "execution_count": 14
        }
      ]
    },
    {
      "cell_type": "code",
      "metadata": {
        "id": "WNgYFFENIljj",
        "colab_type": "code",
        "outputId": "a9882268-643e-4d18-edc3-3c9adaff7bd5",
        "colab": {
          "base_uri": "https://localhost:8080/",
          "height": 147
        }
      },
      "source": [
        "gene_list"
      ],
      "execution_count": 0,
      "outputs": [
        {
          "output_type": "execute_result",
          "data": {
            "text/plain": [
              "['cd538g',\n",
              " 'tyr537ser (y537s)',\n",
              " 'esr1',\n",
              " 'estrogen receptor alpha',\n",
              " 'knock-in',\n",
              " 'protac',\n",
              " 'eralpha',\n",
              " 'greb1']"
            ]
          },
          "metadata": {
            "tags": []
          },
          "execution_count": 16
        }
      ]
    },
    {
      "cell_type": "code",
      "metadata": {
        "id": "nOXEVpBSIl7T",
        "colab_type": "code",
        "outputId": "0cd463d1-1e60-4008-b782-662881700666",
        "colab": {
          "base_uri": "https://localhost:8080/",
          "height": 33
        }
      },
      "source": [
        "disease_list"
      ],
      "execution_count": 0,
      "outputs": [
        {
          "output_type": "execute_result",
          "data": {
            "text/plain": [
              "['breast cancer', 'toxicity', 'breast cancers']"
            ]
          },
          "metadata": {
            "tags": []
          },
          "execution_count": 17
        }
      ]
    },
    {
      "cell_type": "markdown",
      "metadata": {
        "id": "yCWDne7MyENT",
        "colab_type": "text"
      },
      "source": [
        "# Trend detection"
      ]
    },
    {
      "cell_type": "code",
      "metadata": {
        "id": "bGbPdCfcyF_K",
        "colab_type": "code",
        "colab": {}
      },
      "source": [
        "import pandas as pd\n",
        "from fbprophet import Prophet\n"
      ],
      "execution_count": 0,
      "outputs": []
    },
    {
      "cell_type": "code",
      "metadata": {
        "id": "NJF0YNoIyXVZ",
        "colab_type": "code",
        "colab": {}
      },
      "source": [
        "example_data =  pd.read_csv('https://raw.githubusercontent.com/cjflanagan/ScispaCy/master/gene_disease_trend_example%20-%20Sheet1%20(1).csv')"
      ],
      "execution_count": 0,
      "outputs": []
    },
    {
      "cell_type": "code",
      "metadata": {
        "id": "iMXsjMpmycRg",
        "colab_type": "code",
        "colab": {
          "base_uri": "https://localhost:8080/",
          "height": 191
        },
        "outputId": "ac1befc2-27c0-4edd-cfd1-d4512edf7b3b"
      },
      "source": [
        "example_data.head()"
      ],
      "execution_count": 62,
      "outputs": [
        {
          "output_type": "execute_result",
          "data": {
            "text/html": [
              "<div>\n",
              "<style scoped>\n",
              "    .dataframe tbody tr th:only-of-type {\n",
              "        vertical-align: middle;\n",
              "    }\n",
              "\n",
              "    .dataframe tbody tr th {\n",
              "        vertical-align: top;\n",
              "    }\n",
              "\n",
              "    .dataframe thead th {\n",
              "        text-align: right;\n",
              "    }\n",
              "</style>\n",
              "<table border=\"1\" class=\"dataframe\">\n",
              "  <thead>\n",
              "    <tr style=\"text-align: right;\">\n",
              "      <th></th>\n",
              "      <th>month</th>\n",
              "      <th>gene_disease</th>\n",
              "      <th>num_papers</th>\n",
              "    </tr>\n",
              "  </thead>\n",
              "  <tbody>\n",
              "    <tr>\n",
              "      <th>0</th>\n",
              "      <td>2007-01-01</td>\n",
              "      <td>cd538g&lt;-&gt;breast cancer</td>\n",
              "      <td>20</td>\n",
              "    </tr>\n",
              "    <tr>\n",
              "      <th>1</th>\n",
              "      <td>2007-02-01</td>\n",
              "      <td>cd538g&lt;-&gt;breast cancer</td>\n",
              "      <td>10</td>\n",
              "    </tr>\n",
              "    <tr>\n",
              "      <th>2</th>\n",
              "      <td>2007-03-01</td>\n",
              "      <td>cd538g&lt;-&gt;breast cancer</td>\n",
              "      <td>8</td>\n",
              "    </tr>\n",
              "    <tr>\n",
              "      <th>3</th>\n",
              "      <td>2007-04-01</td>\n",
              "      <td>cd538g&lt;-&gt;breast cancer</td>\n",
              "      <td>14</td>\n",
              "    </tr>\n",
              "    <tr>\n",
              "      <th>4</th>\n",
              "      <td>2007-05-01</td>\n",
              "      <td>cd538g&lt;-&gt;breast cancer</td>\n",
              "      <td>4</td>\n",
              "    </tr>\n",
              "  </tbody>\n",
              "</table>\n",
              "</div>"
            ],
            "text/plain": [
              "        month            gene_disease  num_papers\n",
              "0  2007-01-01  cd538g<->breast cancer          20\n",
              "1  2007-02-01  cd538g<->breast cancer          10\n",
              "2  2007-03-01  cd538g<->breast cancer           8\n",
              "3  2007-04-01  cd538g<->breast cancer          14\n",
              "4  2007-05-01  cd538g<->breast cancer           4"
            ]
          },
          "metadata": {
            "tags": []
          },
          "execution_count": 62
        }
      ]
    },
    {
      "cell_type": "code",
      "metadata": {
        "id": "1fjpC_tL2EZe",
        "colab_type": "code",
        "colab": {}
      },
      "source": [
        "example_data['month'] = example_data['month'].apply(str)"
      ],
      "execution_count": 0,
      "outputs": []
    },
    {
      "cell_type": "code",
      "metadata": {
        "id": "PiaoTTzvymqS",
        "colab_type": "code",
        "colab": {
          "base_uri": "https://localhost:8080/",
          "height": 295
        },
        "outputId": "ecc7e93b-50ab-4c19-d0fd-2c6904d56af0"
      },
      "source": [
        "df = example_data.rename(columns={'month':'ds', 'num_papers':'y'})\n",
        "\n",
        "#lets take a look at our data quickly\n",
        "df.set_index('ds').y.plot()"
      ],
      "execution_count": 64,
      "outputs": [
        {
          "output_type": "execute_result",
          "data": {
            "text/plain": [
              "<matplotlib.axes._subplots.AxesSubplot at 0x7f64820aedd8>"
            ]
          },
          "metadata": {
            "tags": []
          },
          "execution_count": 64
        },
        {
          "output_type": "display_data",
          "data": {
            "image/png": "[encoded data removed]",
            "text/plain": [
              "<Figure size 432x288 with 1 Axes>"
            ]
          },
          "metadata": {
            "tags": []
          }
        }
      ]
    },
    {
      "cell_type": "code",
      "metadata": {
        "id": "O1RzaFWTy6T7",
        "colab_type": "code",
        "colab": {
          "base_uri": "https://localhost:8080/",
          "height": 50
        },
        "outputId": "542ee4d0-a0b5-4b39-cea0-45ceb084eb64"
      },
      "source": [
        "model = Prophet()\n",
        "model.fit(df);\n",
        "future = model.make_future_dataframe(periods=366)\n",
        "forecast = model.predict(future) # Future forecasts incase we want it"
      ],
      "execution_count": 65,
      "outputs": [
        {
          "output_type": "stream",
          "text": [
            "INFO:fbprophet:Disabling weekly seasonality. Run prophet with weekly_seasonality=True to override this.\n",
            "INFO:fbprophet:Disabling daily seasonality. Run prophet with daily_seasonality=True to override this.\n"
          ],
          "name": "stderr"
        }
      ]
    },
    {
      "cell_type": "code",
      "metadata": {
        "id": "8EPE_kn35nN0",
        "colab_type": "code",
        "colab": {
          "base_uri": "https://localhost:8080/",
          "height": 441
        },
        "outputId": "81685ea4-af68-4b49-b337-5ebbd31ca47a"
      },
      "source": [
        "figure = model.plot(forecast)\n",
        "for changepoint in model.changepoints:\n",
        "    plt.axvline(changepoint,ls='--', lw=1)\n"
      ],
      "execution_count": 70,
      "outputs": [
        {
          "output_type": "display_data",
          "data": {
            "image/png": "[encoded data removed]",
            "text/plain": [
              "<Figure size 720x432 with 1 Axes>"
            ]
          },
          "metadata": {
            "tags": []
          }
        }
      ]
    }
  ]
}